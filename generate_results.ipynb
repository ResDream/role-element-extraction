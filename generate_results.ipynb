{
 "cells": [
  {
   "cell_type": "code",
   "outputs": [],
   "source": [
    "from sparkai.llm.llm import ChatSparkLLM, ChunkPrintHandler\n",
    "from sparkai.core.messages import ChatMessage\n",
    "import numpy as np\n",
    "from tqdm import tqdm\n",
    "\n",
    "\n",
    "def chatbot(prompt):\n",
    "    #星火认知大模型Spark3.5 Max的URL值，其他版本大模型URL值请前往文档（https://www.xfyun.cn/doc/spark/Web.html）查看\n",
    "    SPARKAI_URL = 'wss://spark-api.xf-yun.com/v3.5/chat'\n",
    "    #星火认知大模型调用秘钥信息，请前往讯飞开放平台控制台（https://console.xfyun.cn/services/bm35）查看\n",
    "    SPARKAI_APP_ID = '9918e391'\n",
    "    SPARKAI_API_SECRET = 'NGQ3ZDFjODc3ODUxMmNmZGY0ODExZGU4'\n",
    "    SPARKAI_API_KEY = '139ed0c8da9d148ecc72bbed3cfa986e'\n",
    "    #星火认知大模型Spark3.5 Max的domain值，其他版本大模型domain值请前往文档（https://www.xfyun.cn/doc/spark/Web.html）查看\n",
    "    SPARKAI_DOMAIN = 'generalv3.5'\n",
    "    spark = ChatSparkLLM(\n",
    "        spark_api_url=SPARKAI_URL,\n",
    "        spark_app_id=SPARKAI_APP_ID,\n",
    "        spark_api_key=SPARKAI_API_KEY,\n",
    "        spark_api_secret=SPARKAI_API_SECRET,\n",
    "        spark_llm_domain=SPARKAI_DOMAIN,\n",
    "        streaming=False,\n",
    "    )\n",
    "    messages = [ChatMessage(\n",
    "        role=\"user\",\n",
    "        content=prompt\n",
    "    )]\n",
    "    handler = ChunkPrintHandler()\n",
    "    a = spark.generate([messages], callbacks=[handler])\n",
    "    return a.generations[0][0].message.content"
   ],
   "metadata": {
    "collapsed": false,
    "ExecuteTime": {
     "end_time": "2024-07-05T07:44:21.646722Z",
     "start_time": "2024-07-05T07:44:21.601328800Z"
    }
   },
   "id": "908aac15b2e870c6",
   "execution_count": 11
  },
  {
   "cell_type": "code",
   "outputs": [],
   "source": [
    "content = ''\n",
    "prompt = f'''\n",
    "你是一个数据分析大师，你需要从群聊对话中进行分析，里面对话的角色中大部分是客服角色，你需要从中区分出有需求的客户，并得到以下四类数据。\n",
    "\n",
    "****群聊对话****\n",
    "{content}\n",
    "\n",
    "****分析数据****\n",
    "客户基本信息：需要从中区分出客户角色，并得到客户基本信息，其中包括姓名、手机号码、邮箱、地区、详细地址、性别、年龄和生日\n",
    "客户意向与预算信息： 客户意向与预算信息包括咨询类型、意向产品、购买异议点、预算是否充足、总体预算金额以及预算明细\n",
    "客户购买准备情况：户购买准备情况包括竞品信息、客户是否有意向、客户是否有卡点以及客户购买阶段\n",
    "跟进计划信息： 跟进计划信息包括参与人、时间点和具体事项，这些信息用于指导销售团队在未来的跟进工作中与客户互动\n",
    "\n",
    "****注意****\n",
    "1.只输出客户基本信息、客户意向与预算信息、客户购买准备情况、跟进计划信息对应的信息，不要输出无关内容\n",
    "2.不要输出分析内容\n",
    "3.输出内容格式为md格式\n",
    "'''"
   ],
   "metadata": {
    "collapsed": false,
    "ExecuteTime": {
     "end_time": "2024-07-05T07:44:37.643764400Z",
     "start_time": "2024-07-05T07:44:37.637764400Z"
    }
   },
   "id": "fb8a186c92764856",
   "execution_count": 12
  },
  {
   "cell_type": "code",
   "outputs": [],
   "source": [
    "import json\n",
    "# 打开并读取JSON文件\n",
    "with open('dataset/train.json', 'r', encoding='utf-8') as file:\n",
    "    data = json.load(file)"
   ],
   "metadata": {
    "collapsed": false,
    "ExecuteTime": {
     "end_time": "2024-07-05T07:45:21.354855Z",
     "start_time": "2024-07-05T07:45:21.330996Z"
    }
   },
   "id": "fa7a65103202c03d",
   "execution_count": 13
  },
  {
   "cell_type": "code",
   "outputs": [],
   "source": [
    "jsonl_data = {\"instruction\":\"假设你是一个智能交互助手，基于用户的输入文本，解析其中语义，抽取关键信息，以json格式生成结构化的语义内容。\",\"input\":\"请调小空气净化器的湿度到1\",\"output\":\"{\\\"intent\\\":\\\"CONTROL\\\",\\\"slots\\\":[{\\\"name\\\":\\\"device\\\",\\\"normValue\\\":\\\"airCleaner\\\",\\\"value\\\":\\\"空气净化器\\\"},{\\\"name\\\":\\\"insType\\\",\\\"normValue\\\":\\\"set\\\",\\\"value\\\":\\\"调小\\\"},{\\\"name\\\":\\\"attr\\\",\\\"normValue\\\":\\\"humidity\\\",\\\"value\\\":\\\"湿度\\\"},{\\\"name\\\":\\\"attrValue\\\",\\\"normValue\\\":\\\"1\\\",\\\"value\\\":\\\"1\\\"}],\\\"sample\\\":\\\"请调小空气净化器的湿度到1\\\"}\"}"
   ],
   "metadata": {
    "collapsed": false,
    "ExecuteTime": {
     "end_time": "2024-07-05T07:46:30.988442200Z",
     "start_time": "2024-07-05T07:46:30.970736800Z"
    }
   },
   "id": "439c42a213a1b537",
   "execution_count": 15
  },
  {
   "cell_type": "code",
   "outputs": [
    {
     "name": "stderr",
     "output_type": "stream",
     "text": [
      "  1%|          | 1/129 [00:31<1:06:09, 31.01s/it]\n"
     ]
    },
    {
     "ename": "KeyboardInterrupt",
     "evalue": "",
     "output_type": "error",
     "traceback": [
      "\u001B[1;31m---------------------------------------------------------------------------\u001B[0m",
      "\u001B[1;31mKeyboardInterrupt\u001B[0m                         Traceback (most recent call last)",
      "Cell \u001B[1;32mIn[16], line 31\u001B[0m\n\u001B[0;32m     12\u001B[0m content \u001B[38;5;241m=\u001B[39m line_input\n\u001B[0;32m     14\u001B[0m prompt \u001B[38;5;241m=\u001B[39m \u001B[38;5;124mf\u001B[39m\u001B[38;5;124m'''\u001B[39m\n\u001B[0;32m     15\u001B[0m \u001B[38;5;124m        你是一个数据分析大师，你需要从群聊对话中进行分析，里面对话的角色中大部分是客服角色，你需要从中区分出有需求的客户，并得到以下四类数据。\u001B[39m\n\u001B[0;32m     16\u001B[0m \n\u001B[1;32m   (...)\u001B[0m\n\u001B[0;32m     29\u001B[0m \u001B[38;5;124m        3.输出内容格式为md格式\u001B[39m\n\u001B[0;32m     30\u001B[0m \u001B[38;5;124m        \u001B[39m\u001B[38;5;124m'''\u001B[39m\n\u001B[1;32m---> 31\u001B[0m res \u001B[38;5;241m=\u001B[39m \u001B[43mchatbot\u001B[49m\u001B[43m(\u001B[49m\u001B[43mprompt\u001B[49m\u001B[38;5;241;43m=\u001B[39;49m\u001B[43mprompt\u001B[49m\u001B[43m)\u001B[49m\n\u001B[0;32m     32\u001B[0m \u001B[38;5;66;03m# print(res)\u001B[39;00m\n\u001B[0;32m     33\u001B[0m line_write \u001B[38;5;241m=\u001B[39m {\n\u001B[0;32m     34\u001B[0m     \u001B[38;5;124m\"\u001B[39m\u001B[38;5;124minstruction\u001B[39m\u001B[38;5;124m\"\u001B[39m:jsonl_data[\u001B[38;5;124m\"\u001B[39m\u001B[38;5;124minstruction\u001B[39m\u001B[38;5;124m\"\u001B[39m],\n\u001B[0;32m     35\u001B[0m     \u001B[38;5;124m\"\u001B[39m\u001B[38;5;124minput\u001B[39m\u001B[38;5;124m\"\u001B[39m:json\u001B[38;5;241m.\u001B[39mdumps(res, ensure_ascii\u001B[38;5;241m=\u001B[39m\u001B[38;5;28;01mFalse\u001B[39;00m),\n\u001B[0;32m     36\u001B[0m     \u001B[38;5;124m\"\u001B[39m\u001B[38;5;124moutput\u001B[39m\u001B[38;5;124m\"\u001B[39m:json\u001B[38;5;241m.\u001B[39mdumps(line_output, ensure_ascii\u001B[38;5;241m=\u001B[39m\u001B[38;5;28;01mFalse\u001B[39;00m)\n\u001B[0;32m     37\u001B[0m }\n",
      "Cell \u001B[1;32mIn[11], line 29\u001B[0m, in \u001B[0;36mchatbot\u001B[1;34m(prompt)\u001B[0m\n\u001B[0;32m     24\u001B[0m messages \u001B[38;5;241m=\u001B[39m [ChatMessage(\n\u001B[0;32m     25\u001B[0m     role\u001B[38;5;241m=\u001B[39m\u001B[38;5;124m\"\u001B[39m\u001B[38;5;124muser\u001B[39m\u001B[38;5;124m\"\u001B[39m,\n\u001B[0;32m     26\u001B[0m     content\u001B[38;5;241m=\u001B[39mprompt\n\u001B[0;32m     27\u001B[0m )]\n\u001B[0;32m     28\u001B[0m handler \u001B[38;5;241m=\u001B[39m ChunkPrintHandler()\n\u001B[1;32m---> 29\u001B[0m a \u001B[38;5;241m=\u001B[39m \u001B[43mspark\u001B[49m\u001B[38;5;241;43m.\u001B[39;49m\u001B[43mgenerate\u001B[49m\u001B[43m(\u001B[49m\u001B[43m[\u001B[49m\u001B[43mmessages\u001B[49m\u001B[43m]\u001B[49m\u001B[43m,\u001B[49m\u001B[43m \u001B[49m\u001B[43mcallbacks\u001B[49m\u001B[38;5;241;43m=\u001B[39;49m\u001B[43m[\u001B[49m\u001B[43mhandler\u001B[49m\u001B[43m]\u001B[49m\u001B[43m)\u001B[49m\n\u001B[0;32m     30\u001B[0m \u001B[38;5;28;01mreturn\u001B[39;00m a\u001B[38;5;241m.\u001B[39mgenerations[\u001B[38;5;241m0\u001B[39m][\u001B[38;5;241m0\u001B[39m]\u001B[38;5;241m.\u001B[39mmessage\u001B[38;5;241m.\u001B[39mcontent\n",
      "File \u001B[1;32mD:\\Software\\anaconda3\\envs\\role-element-extraction\\lib\\site-packages\\sparkai\\core\\language_models\\chat_models.py:412\u001B[0m, in \u001B[0;36mBaseChatModel.generate\u001B[1;34m(self, messages, stop, callbacks, tags, metadata, run_name, **kwargs)\u001B[0m\n\u001B[0;32m    410\u001B[0m         \u001B[38;5;28;01mif\u001B[39;00m run_managers:\n\u001B[0;32m    411\u001B[0m             run_managers[i]\u001B[38;5;241m.\u001B[39mon_llm_error(e, response\u001B[38;5;241m=\u001B[39mLLMResult(generations\u001B[38;5;241m=\u001B[39m[]))\n\u001B[1;32m--> 412\u001B[0m         \u001B[38;5;28;01mraise\u001B[39;00m e\n\u001B[0;32m    413\u001B[0m flattened_outputs \u001B[38;5;241m=\u001B[39m [\n\u001B[0;32m    414\u001B[0m     LLMResult(generations\u001B[38;5;241m=\u001B[39m[res\u001B[38;5;241m.\u001B[39mgenerations], llm_output\u001B[38;5;241m=\u001B[39mres\u001B[38;5;241m.\u001B[39mllm_output)\n\u001B[0;32m    415\u001B[0m     \u001B[38;5;28;01mfor\u001B[39;00m res \u001B[38;5;129;01min\u001B[39;00m results\n\u001B[0;32m    416\u001B[0m ]\n\u001B[0;32m    417\u001B[0m llm_output \u001B[38;5;241m=\u001B[39m \u001B[38;5;28mself\u001B[39m\u001B[38;5;241m.\u001B[39m_combine_llm_outputs([res\u001B[38;5;241m.\u001B[39mllm_output \u001B[38;5;28;01mfor\u001B[39;00m res \u001B[38;5;129;01min\u001B[39;00m results])\n",
      "File \u001B[1;32mD:\\Software\\anaconda3\\envs\\role-element-extraction\\lib\\site-packages\\sparkai\\core\\language_models\\chat_models.py:402\u001B[0m, in \u001B[0;36mBaseChatModel.generate\u001B[1;34m(self, messages, stop, callbacks, tags, metadata, run_name, **kwargs)\u001B[0m\n\u001B[0;32m    399\u001B[0m \u001B[38;5;28;01mfor\u001B[39;00m i, m \u001B[38;5;129;01min\u001B[39;00m \u001B[38;5;28menumerate\u001B[39m(messages):\n\u001B[0;32m    400\u001B[0m     \u001B[38;5;28;01mtry\u001B[39;00m:\n\u001B[0;32m    401\u001B[0m         results\u001B[38;5;241m.\u001B[39mappend(\n\u001B[1;32m--> 402\u001B[0m             \u001B[38;5;28mself\u001B[39m\u001B[38;5;241m.\u001B[39m_generate_with_cache(\n\u001B[0;32m    403\u001B[0m                 m,\n\u001B[0;32m    404\u001B[0m                 stop\u001B[38;5;241m=\u001B[39mstop,\n\u001B[0;32m    405\u001B[0m                 run_manager\u001B[38;5;241m=\u001B[39mrun_managers[i] \u001B[38;5;28;01mif\u001B[39;00m run_managers \u001B[38;5;28;01melse\u001B[39;00m \u001B[38;5;28;01mNone\u001B[39;00m,\n\u001B[0;32m    406\u001B[0m                 \u001B[38;5;241m*\u001B[39m\u001B[38;5;241m*\u001B[39mkwargs,\n\u001B[0;32m    407\u001B[0m             )\n\u001B[0;32m    408\u001B[0m         )\n\u001B[0;32m    409\u001B[0m     \u001B[38;5;28;01mexcept\u001B[39;00m \u001B[38;5;167;01mBaseException\u001B[39;00m \u001B[38;5;28;01mas\u001B[39;00m e:\n\u001B[0;32m    410\u001B[0m         \u001B[38;5;28;01mif\u001B[39;00m run_managers:\n",
      "File \u001B[1;32mD:\\Software\\anaconda3\\envs\\role-element-extraction\\lib\\site-packages\\sparkai\\core\\language_models\\chat_models.py:581\u001B[0m, in \u001B[0;36mBaseChatModel._generate_with_cache\u001B[1;34m(self, messages, stop, run_manager, **kwargs)\u001B[0m\n\u001B[0;32m    577\u001B[0m     \u001B[38;5;28;01mraise\u001B[39;00m \u001B[38;5;167;01mValueError\u001B[39;00m(\n\u001B[0;32m    578\u001B[0m         \u001B[38;5;124m\"\u001B[39m\u001B[38;5;124mAsked to cache, but no cache found at `depreciated.cache`.\u001B[39m\u001B[38;5;124m\"\u001B[39m\n\u001B[0;32m    579\u001B[0m     )\n\u001B[0;32m    580\u001B[0m \u001B[38;5;28;01mif\u001B[39;00m new_arg_supported:\n\u001B[1;32m--> 581\u001B[0m     \u001B[38;5;28;01mreturn\u001B[39;00m \u001B[38;5;28mself\u001B[39m\u001B[38;5;241m.\u001B[39m_generate(\n\u001B[0;32m    582\u001B[0m         messages, stop\u001B[38;5;241m=\u001B[39mstop, run_manager\u001B[38;5;241m=\u001B[39mrun_manager, \u001B[38;5;241m*\u001B[39m\u001B[38;5;241m*\u001B[39mkwargs\n\u001B[0;32m    583\u001B[0m     )\n\u001B[0;32m    584\u001B[0m \u001B[38;5;28;01melse\u001B[39;00m:\n\u001B[0;32m    585\u001B[0m     \u001B[38;5;28;01mreturn\u001B[39;00m \u001B[38;5;28mself\u001B[39m\u001B[38;5;241m.\u001B[39m_generate(messages, stop\u001B[38;5;241m=\u001B[39mstop, \u001B[38;5;241m*\u001B[39m\u001B[38;5;241m*\u001B[39mkwargs)\n",
      "File \u001B[1;32mD:\\Software\\anaconda3\\envs\\role-element-extraction\\lib\\site-packages\\sparkai\\llm\\llm.py:376\u001B[0m, in \u001B[0;36mChatSparkLLM._generate\u001B[1;34m(self, messages, stop, run_manager, **kwargs)\u001B[0m\n\u001B[0;32m    368\u001B[0m \u001B[38;5;28mself\u001B[39m\u001B[38;5;241m.\u001B[39mclient\u001B[38;5;241m.\u001B[39marun(\n\u001B[0;32m    369\u001B[0m     converted_messages,\n\u001B[0;32m    370\u001B[0m     \u001B[38;5;28mself\u001B[39m\u001B[38;5;241m.\u001B[39mspark_user_id,\n\u001B[1;32m   (...)\u001B[0m\n\u001B[0;32m    373\u001B[0m     function_definition\n\u001B[0;32m    374\u001B[0m )\n\u001B[0;32m    375\u001B[0m completion \u001B[38;5;241m=\u001B[39m {}\n\u001B[1;32m--> 376\u001B[0m \u001B[38;5;28;01mfor\u001B[39;00m content \u001B[38;5;129;01min\u001B[39;00m \u001B[38;5;28mself\u001B[39m\u001B[38;5;241m.\u001B[39mclient\u001B[38;5;241m.\u001B[39msubscribe(timeout\u001B[38;5;241m=\u001B[39m\u001B[38;5;28mself\u001B[39m\u001B[38;5;241m.\u001B[39mrequest_timeout):\n\u001B[0;32m    377\u001B[0m     \u001B[38;5;28;01mif\u001B[39;00m \u001B[38;5;124m\"\u001B[39m\u001B[38;5;124musage\u001B[39m\u001B[38;5;124m\"\u001B[39m \u001B[38;5;129;01min\u001B[39;00m content:\n\u001B[0;32m    378\u001B[0m         llm_output[\u001B[38;5;124m\"\u001B[39m\u001B[38;5;124mtoken_usage\u001B[39m\u001B[38;5;124m\"\u001B[39m] \u001B[38;5;241m=\u001B[39m content[\u001B[38;5;124m\"\u001B[39m\u001B[38;5;124musage\u001B[39m\u001B[38;5;124m\"\u001B[39m]\n",
      "File \u001B[1;32mD:\\Software\\anaconda3\\envs\\role-element-extraction\\lib\\site-packages\\sparkai\\llm\\llm.py:682\u001B[0m, in \u001B[0;36m_SparkLLMClient.subscribe\u001B[1;34m(self, timeout)\u001B[0m\n\u001B[0;32m    680\u001B[0m \u001B[38;5;28;01mwhile\u001B[39;00m \u001B[38;5;28;01mTrue\u001B[39;00m:\n\u001B[0;32m    681\u001B[0m     \u001B[38;5;28;01mtry\u001B[39;00m:\n\u001B[1;32m--> 682\u001B[0m         content \u001B[38;5;241m=\u001B[39m \u001B[38;5;28;43mself\u001B[39;49m\u001B[38;5;241;43m.\u001B[39;49m\u001B[43mqueue\u001B[49m\u001B[38;5;241;43m.\u001B[39;49m\u001B[43mget\u001B[49m\u001B[43m(\u001B[49m\u001B[43mtimeout\u001B[49m\u001B[38;5;241;43m=\u001B[39;49m\u001B[43mtimeout\u001B[49m\u001B[43m)\u001B[49m\n\u001B[0;32m    683\u001B[0m     \u001B[38;5;28;01mexcept\u001B[39;00m queue\u001B[38;5;241m.\u001B[39mEmpty \u001B[38;5;28;01mas\u001B[39;00m _:\n\u001B[0;32m    684\u001B[0m         e \u001B[38;5;241m=\u001B[39m \u001B[38;5;167;01mTimeoutError\u001B[39;00m(\n\u001B[0;32m    685\u001B[0m             \u001B[38;5;124mf\u001B[39m\u001B[38;5;124m\"\u001B[39m\u001B[38;5;124mSparkLLMClient wait LLM api response timeout \u001B[39m\u001B[38;5;132;01m{\u001B[39;00mtimeout\u001B[38;5;132;01m}\u001B[39;00m\u001B[38;5;124m seconds\u001B[39m\u001B[38;5;124m\"\u001B[39m\n\u001B[0;32m    686\u001B[0m         )\n",
      "File \u001B[1;32mD:\\Software\\anaconda3\\envs\\role-element-extraction\\lib\\queue.py:180\u001B[0m, in \u001B[0;36mQueue.get\u001B[1;34m(self, block, timeout)\u001B[0m\n\u001B[0;32m    178\u001B[0m         \u001B[38;5;28;01mif\u001B[39;00m remaining \u001B[38;5;241m<\u001B[39m\u001B[38;5;241m=\u001B[39m \u001B[38;5;241m0.0\u001B[39m:\n\u001B[0;32m    179\u001B[0m             \u001B[38;5;28;01mraise\u001B[39;00m Empty\n\u001B[1;32m--> 180\u001B[0m         \u001B[38;5;28;43mself\u001B[39;49m\u001B[38;5;241;43m.\u001B[39;49m\u001B[43mnot_empty\u001B[49m\u001B[38;5;241;43m.\u001B[39;49m\u001B[43mwait\u001B[49m\u001B[43m(\u001B[49m\u001B[43mremaining\u001B[49m\u001B[43m)\u001B[49m\n\u001B[0;32m    181\u001B[0m item \u001B[38;5;241m=\u001B[39m \u001B[38;5;28mself\u001B[39m\u001B[38;5;241m.\u001B[39m_get()\n\u001B[0;32m    182\u001B[0m \u001B[38;5;28mself\u001B[39m\u001B[38;5;241m.\u001B[39mnot_full\u001B[38;5;241m.\u001B[39mnotify()\n",
      "File \u001B[1;32mD:\\Software\\anaconda3\\envs\\role-element-extraction\\lib\\threading.py:324\u001B[0m, in \u001B[0;36mCondition.wait\u001B[1;34m(self, timeout)\u001B[0m\n\u001B[0;32m    322\u001B[0m \u001B[38;5;28;01melse\u001B[39;00m:\n\u001B[0;32m    323\u001B[0m     \u001B[38;5;28;01mif\u001B[39;00m timeout \u001B[38;5;241m>\u001B[39m \u001B[38;5;241m0\u001B[39m:\n\u001B[1;32m--> 324\u001B[0m         gotit \u001B[38;5;241m=\u001B[39m \u001B[43mwaiter\u001B[49m\u001B[38;5;241;43m.\u001B[39;49m\u001B[43macquire\u001B[49m\u001B[43m(\u001B[49m\u001B[38;5;28;43;01mTrue\u001B[39;49;00m\u001B[43m,\u001B[49m\u001B[43m \u001B[49m\u001B[43mtimeout\u001B[49m\u001B[43m)\u001B[49m\n\u001B[0;32m    325\u001B[0m     \u001B[38;5;28;01melse\u001B[39;00m:\n\u001B[0;32m    326\u001B[0m         gotit \u001B[38;5;241m=\u001B[39m waiter\u001B[38;5;241m.\u001B[39macquire(\u001B[38;5;28;01mFalse\u001B[39;00m)\n",
      "\u001B[1;31mKeyboardInterrupt\u001B[0m: "
     ]
    }
   ],
   "source": [
    "# 训练集制作\n",
    "\n",
    "# 打开一个文件用于写入，如果文件已存在则会被覆盖\n",
    "with open('traindata.jsonl', 'w', encoding='utf-8') as file:\n",
    "    # 训练集行数(130)不符合要求，范围：1500~90000000\n",
    "    # 遍历数据列表，并将每一行写入文件\n",
    "    # 这里为了满足微调需求我们重复12次数据集 130*12=1560\n",
    "    \n",
    "    for line_data in tqdm(data):\n",
    "        line_input = line_data[\"chat_text\"] \n",
    "        line_output = line_data[\"infos\"]\n",
    "        content = line_input\n",
    "        \n",
    "        prompt = f'''\n",
    "                你是一个数据分析大师，你需要从群聊对话中进行分析，里面对话的角色中大部分是客服角色，你需要从中区分出有需求的客户，并得到以下四类数据。\n",
    "\n",
    "                ****群聊对话****\n",
    "                {content}\n",
    "\n",
    "                ****分析数据****\n",
    "                客户基本信息：需要从中区分出客户角色，并得到客户基本信息，其中包括姓名、手机号码、邮箱、地区、详细地址、性别、年龄和生日\n",
    "                客户意向与预算信息： 客户意向与预算信息包括咨询类型、意向产品、购买异议点、预算是否充足、总体预算金额以及预算明细\n",
    "                客户购买准备情况：户购买准备情况包括竞品信息、客户是否有意向、客户是否有卡点以及客户购买阶段\n",
    "                跟进计划信息： 跟进计划信息包括参与人、时间点和具体事项，这些信息用于指导销售团队在未来的跟进工作中与客户互动\n",
    "\n",
    "                ****注意****\n",
    "                1.只输出客户基本信息、客户意向与预算信息、客户购买准备情况、跟进计划信息对应的信息，不要输出无关内容\n",
    "                2.不要输出分析内容\n",
    "                3.输出内容格式为md格式\n",
    "                '''\n",
    "        res = chatbot(prompt=prompt)\n",
    "        # print(res)\n",
    "        line_write = {\n",
    "            \"instruction\":jsonl_data[\"instruction\"],\n",
    "            \"input\":json.dumps(res, ensure_ascii=False),\n",
    "            \"output\":json.dumps(line_output, ensure_ascii=False)\n",
    "        }\n",
    "        # 因为数据共有130行，为了能满足训练需要的1500条及以上，我们将正常训练数据扩充12倍。\n",
    "        for time in range(12):\n",
    "            file.write(json.dumps(line_write, ensure_ascii=False) + '\\n')  # '\\n' 用于在每行末尾添加换行符"
   ],
   "metadata": {
    "collapsed": false,
    "ExecuteTime": {
     "end_time": "2024-07-05T07:47:02.641634700Z",
     "start_time": "2024-07-05T07:46:31.345900300Z"
    }
   },
   "id": "4fbb0bd0b634e7f4",
   "execution_count": 16
  },
  {
   "cell_type": "code",
   "outputs": [],
   "source": [
    "\n",
    "import json\n",
    "\n",
    "# 打开并读取JSON文件\n",
    "with open('dataset/test_data.json', 'r', encoding='utf-8') as file:\n",
    "    data_test = json.load(file)"
   ],
   "metadata": {
    "collapsed": false,
    "ExecuteTime": {
     "end_time": "2024-07-05T07:47:32.437285600Z",
     "start_time": "2024-07-05T07:47:32.418286100Z"
    }
   },
   "id": "bd0f9e5adb6e0204",
   "execution_count": 17
  },
  {
   "cell_type": "code",
   "outputs": [
    {
     "name": "stderr",
     "output_type": "stream",
     "text": [
      "  2%|▏         | 1/55 [00:24<22:09, 24.62s/it]2024-07-05 15:48:33 中国标准时间 - SparkPythonSDK - ERROR - [D:\\Software\\anaconda3\\envs\\role-element-extraction\\lib\\site-packages\\sparkai\\llm\\llm.py:687] - SparkLLMClient wait LLM api response timeout 30 seconds\n",
      " 38%|███▊      | 21/55 [07:39<11:47, 20.81s/it]2024-07-05 15:55:48 中国标准时间 - SparkPythonSDK - ERROR - [D:\\Software\\anaconda3\\envs\\role-element-extraction\\lib\\site-packages\\sparkai\\llm\\llm.py:687] - SparkLLMClient wait LLM api response timeout 30 seconds\n",
      " 38%|███▊      | 21/55 [08:39<14:00, 24.72s/it]\n"
     ]
    },
    {
     "ename": "KeyboardInterrupt",
     "evalue": "",
     "output_type": "error",
     "traceback": [
      "\u001B[1;31m---------------------------------------------------------------------------\u001B[0m",
      "\u001B[1;31mKeyboardInterrupt\u001B[0m                         Traceback (most recent call last)",
      "Cell \u001B[1;32mIn[18], line 28\u001B[0m\n\u001B[0;32m     10\u001B[0m content \u001B[38;5;241m=\u001B[39m line_data[\u001B[38;5;124m\"\u001B[39m\u001B[38;5;124mchat_text\u001B[39m\u001B[38;5;124m\"\u001B[39m]\n\u001B[0;32m     11\u001B[0m prompt \u001B[38;5;241m=\u001B[39m \u001B[38;5;124mf\u001B[39m\u001B[38;5;124m'''\u001B[39m\n\u001B[0;32m     12\u001B[0m \u001B[38;5;124m        你是一个数据分析大师，你需要从群聊对话中进行分析，里面对话的角色中大部分是客服角色，你需要从中区分出有需求的客户，并得到以下四类数据。\u001B[39m\n\u001B[0;32m     13\u001B[0m \n\u001B[1;32m   (...)\u001B[0m\n\u001B[0;32m     26\u001B[0m \u001B[38;5;124m        3.输出内容格式为md格式\u001B[39m\n\u001B[0;32m     27\u001B[0m \u001B[38;5;124m        \u001B[39m\u001B[38;5;124m'''\u001B[39m\n\u001B[1;32m---> 28\u001B[0m res \u001B[38;5;241m=\u001B[39m \u001B[43mchatbot\u001B[49m\u001B[43m(\u001B[49m\u001B[43mprompt\u001B[49m\u001B[38;5;241;43m=\u001B[39;49m\u001B[43mprompt\u001B[49m\u001B[43m)\u001B[49m\n\u001B[0;32m     30\u001B[0m \u001B[38;5;66;03m# print(line_data[\"chat_text\"])\u001B[39;00m\n\u001B[0;32m     31\u001B[0m \u001B[38;5;66;03m## 文件内容校验失败: test.jsonl(不含表头起算)第1行的内容不符合规则，限制每组input和target字符数量总和上限为8000，当前行字符数量：10721\u001B[39;00m\n\u001B[0;32m     32\u001B[0m line_list \u001B[38;5;241m=\u001B[39m [res, \u001B[38;5;124m\"\u001B[39m\u001B[38;5;124m-\u001B[39m\u001B[38;5;124m\"\u001B[39m]   \n",
      "Cell \u001B[1;32mIn[11], line 29\u001B[0m, in \u001B[0;36mchatbot\u001B[1;34m(prompt)\u001B[0m\n\u001B[0;32m     24\u001B[0m messages \u001B[38;5;241m=\u001B[39m [ChatMessage(\n\u001B[0;32m     25\u001B[0m     role\u001B[38;5;241m=\u001B[39m\u001B[38;5;124m\"\u001B[39m\u001B[38;5;124muser\u001B[39m\u001B[38;5;124m\"\u001B[39m,\n\u001B[0;32m     26\u001B[0m     content\u001B[38;5;241m=\u001B[39mprompt\n\u001B[0;32m     27\u001B[0m )]\n\u001B[0;32m     28\u001B[0m handler \u001B[38;5;241m=\u001B[39m ChunkPrintHandler()\n\u001B[1;32m---> 29\u001B[0m a \u001B[38;5;241m=\u001B[39m \u001B[43mspark\u001B[49m\u001B[38;5;241;43m.\u001B[39;49m\u001B[43mgenerate\u001B[49m\u001B[43m(\u001B[49m\u001B[43m[\u001B[49m\u001B[43mmessages\u001B[49m\u001B[43m]\u001B[49m\u001B[43m,\u001B[49m\u001B[43m \u001B[49m\u001B[43mcallbacks\u001B[49m\u001B[38;5;241;43m=\u001B[39;49m\u001B[43m[\u001B[49m\u001B[43mhandler\u001B[49m\u001B[43m]\u001B[49m\u001B[43m)\u001B[49m\n\u001B[0;32m     30\u001B[0m \u001B[38;5;28;01mreturn\u001B[39;00m a\u001B[38;5;241m.\u001B[39mgenerations[\u001B[38;5;241m0\u001B[39m][\u001B[38;5;241m0\u001B[39m]\u001B[38;5;241m.\u001B[39mmessage\u001B[38;5;241m.\u001B[39mcontent\n",
      "File \u001B[1;32mD:\\Software\\anaconda3\\envs\\role-element-extraction\\lib\\site-packages\\sparkai\\core\\language_models\\chat_models.py:412\u001B[0m, in \u001B[0;36mBaseChatModel.generate\u001B[1;34m(self, messages, stop, callbacks, tags, metadata, run_name, **kwargs)\u001B[0m\n\u001B[0;32m    410\u001B[0m         \u001B[38;5;28;01mif\u001B[39;00m run_managers:\n\u001B[0;32m    411\u001B[0m             run_managers[i]\u001B[38;5;241m.\u001B[39mon_llm_error(e, response\u001B[38;5;241m=\u001B[39mLLMResult(generations\u001B[38;5;241m=\u001B[39m[]))\n\u001B[1;32m--> 412\u001B[0m         \u001B[38;5;28;01mraise\u001B[39;00m e\n\u001B[0;32m    413\u001B[0m flattened_outputs \u001B[38;5;241m=\u001B[39m [\n\u001B[0;32m    414\u001B[0m     LLMResult(generations\u001B[38;5;241m=\u001B[39m[res\u001B[38;5;241m.\u001B[39mgenerations], llm_output\u001B[38;5;241m=\u001B[39mres\u001B[38;5;241m.\u001B[39mllm_output)\n\u001B[0;32m    415\u001B[0m     \u001B[38;5;28;01mfor\u001B[39;00m res \u001B[38;5;129;01min\u001B[39;00m results\n\u001B[0;32m    416\u001B[0m ]\n\u001B[0;32m    417\u001B[0m llm_output \u001B[38;5;241m=\u001B[39m \u001B[38;5;28mself\u001B[39m\u001B[38;5;241m.\u001B[39m_combine_llm_outputs([res\u001B[38;5;241m.\u001B[39mllm_output \u001B[38;5;28;01mfor\u001B[39;00m res \u001B[38;5;129;01min\u001B[39;00m results])\n",
      "File \u001B[1;32mD:\\Software\\anaconda3\\envs\\role-element-extraction\\lib\\site-packages\\sparkai\\core\\language_models\\chat_models.py:402\u001B[0m, in \u001B[0;36mBaseChatModel.generate\u001B[1;34m(self, messages, stop, callbacks, tags, metadata, run_name, **kwargs)\u001B[0m\n\u001B[0;32m    399\u001B[0m \u001B[38;5;28;01mfor\u001B[39;00m i, m \u001B[38;5;129;01min\u001B[39;00m \u001B[38;5;28menumerate\u001B[39m(messages):\n\u001B[0;32m    400\u001B[0m     \u001B[38;5;28;01mtry\u001B[39;00m:\n\u001B[0;32m    401\u001B[0m         results\u001B[38;5;241m.\u001B[39mappend(\n\u001B[1;32m--> 402\u001B[0m             \u001B[38;5;28mself\u001B[39m\u001B[38;5;241m.\u001B[39m_generate_with_cache(\n\u001B[0;32m    403\u001B[0m                 m,\n\u001B[0;32m    404\u001B[0m                 stop\u001B[38;5;241m=\u001B[39mstop,\n\u001B[0;32m    405\u001B[0m                 run_manager\u001B[38;5;241m=\u001B[39mrun_managers[i] \u001B[38;5;28;01mif\u001B[39;00m run_managers \u001B[38;5;28;01melse\u001B[39;00m \u001B[38;5;28;01mNone\u001B[39;00m,\n\u001B[0;32m    406\u001B[0m                 \u001B[38;5;241m*\u001B[39m\u001B[38;5;241m*\u001B[39mkwargs,\n\u001B[0;32m    407\u001B[0m             )\n\u001B[0;32m    408\u001B[0m         )\n\u001B[0;32m    409\u001B[0m     \u001B[38;5;28;01mexcept\u001B[39;00m \u001B[38;5;167;01mBaseException\u001B[39;00m \u001B[38;5;28;01mas\u001B[39;00m e:\n\u001B[0;32m    410\u001B[0m         \u001B[38;5;28;01mif\u001B[39;00m run_managers:\n",
      "File \u001B[1;32mD:\\Software\\anaconda3\\envs\\role-element-extraction\\lib\\site-packages\\sparkai\\core\\language_models\\chat_models.py:581\u001B[0m, in \u001B[0;36mBaseChatModel._generate_with_cache\u001B[1;34m(self, messages, stop, run_manager, **kwargs)\u001B[0m\n\u001B[0;32m    577\u001B[0m     \u001B[38;5;28;01mraise\u001B[39;00m \u001B[38;5;167;01mValueError\u001B[39;00m(\n\u001B[0;32m    578\u001B[0m         \u001B[38;5;124m\"\u001B[39m\u001B[38;5;124mAsked to cache, but no cache found at `depreciated.cache`.\u001B[39m\u001B[38;5;124m\"\u001B[39m\n\u001B[0;32m    579\u001B[0m     )\n\u001B[0;32m    580\u001B[0m \u001B[38;5;28;01mif\u001B[39;00m new_arg_supported:\n\u001B[1;32m--> 581\u001B[0m     \u001B[38;5;28;01mreturn\u001B[39;00m \u001B[38;5;28mself\u001B[39m\u001B[38;5;241m.\u001B[39m_generate(\n\u001B[0;32m    582\u001B[0m         messages, stop\u001B[38;5;241m=\u001B[39mstop, run_manager\u001B[38;5;241m=\u001B[39mrun_manager, \u001B[38;5;241m*\u001B[39m\u001B[38;5;241m*\u001B[39mkwargs\n\u001B[0;32m    583\u001B[0m     )\n\u001B[0;32m    584\u001B[0m \u001B[38;5;28;01melse\u001B[39;00m:\n\u001B[0;32m    585\u001B[0m     \u001B[38;5;28;01mreturn\u001B[39;00m \u001B[38;5;28mself\u001B[39m\u001B[38;5;241m.\u001B[39m_generate(messages, stop\u001B[38;5;241m=\u001B[39mstop, \u001B[38;5;241m*\u001B[39m\u001B[38;5;241m*\u001B[39mkwargs)\n",
      "File \u001B[1;32mD:\\Software\\anaconda3\\envs\\role-element-extraction\\lib\\site-packages\\sparkai\\llm\\llm.py:376\u001B[0m, in \u001B[0;36mChatSparkLLM._generate\u001B[1;34m(self, messages, stop, run_manager, **kwargs)\u001B[0m\n\u001B[0;32m    368\u001B[0m \u001B[38;5;28mself\u001B[39m\u001B[38;5;241m.\u001B[39mclient\u001B[38;5;241m.\u001B[39marun(\n\u001B[0;32m    369\u001B[0m     converted_messages,\n\u001B[0;32m    370\u001B[0m     \u001B[38;5;28mself\u001B[39m\u001B[38;5;241m.\u001B[39mspark_user_id,\n\u001B[1;32m   (...)\u001B[0m\n\u001B[0;32m    373\u001B[0m     function_definition\n\u001B[0;32m    374\u001B[0m )\n\u001B[0;32m    375\u001B[0m completion \u001B[38;5;241m=\u001B[39m {}\n\u001B[1;32m--> 376\u001B[0m \u001B[38;5;28;01mfor\u001B[39;00m content \u001B[38;5;129;01min\u001B[39;00m \u001B[38;5;28mself\u001B[39m\u001B[38;5;241m.\u001B[39mclient\u001B[38;5;241m.\u001B[39msubscribe(timeout\u001B[38;5;241m=\u001B[39m\u001B[38;5;28mself\u001B[39m\u001B[38;5;241m.\u001B[39mrequest_timeout):\n\u001B[0;32m    377\u001B[0m     \u001B[38;5;28;01mif\u001B[39;00m \u001B[38;5;124m\"\u001B[39m\u001B[38;5;124musage\u001B[39m\u001B[38;5;124m\"\u001B[39m \u001B[38;5;129;01min\u001B[39;00m content:\n\u001B[0;32m    378\u001B[0m         llm_output[\u001B[38;5;124m\"\u001B[39m\u001B[38;5;124mtoken_usage\u001B[39m\u001B[38;5;124m\"\u001B[39m] \u001B[38;5;241m=\u001B[39m content[\u001B[38;5;124m\"\u001B[39m\u001B[38;5;124musage\u001B[39m\u001B[38;5;124m\"\u001B[39m]\n",
      "File \u001B[1;32mD:\\Software\\anaconda3\\envs\\role-element-extraction\\lib\\site-packages\\sparkai\\llm\\llm.py:682\u001B[0m, in \u001B[0;36m_SparkLLMClient.subscribe\u001B[1;34m(self, timeout)\u001B[0m\n\u001B[0;32m    680\u001B[0m \u001B[38;5;28;01mwhile\u001B[39;00m \u001B[38;5;28;01mTrue\u001B[39;00m:\n\u001B[0;32m    681\u001B[0m     \u001B[38;5;28;01mtry\u001B[39;00m:\n\u001B[1;32m--> 682\u001B[0m         content \u001B[38;5;241m=\u001B[39m \u001B[38;5;28;43mself\u001B[39;49m\u001B[38;5;241;43m.\u001B[39;49m\u001B[43mqueue\u001B[49m\u001B[38;5;241;43m.\u001B[39;49m\u001B[43mget\u001B[49m\u001B[43m(\u001B[49m\u001B[43mtimeout\u001B[49m\u001B[38;5;241;43m=\u001B[39;49m\u001B[43mtimeout\u001B[49m\u001B[43m)\u001B[49m\n\u001B[0;32m    683\u001B[0m     \u001B[38;5;28;01mexcept\u001B[39;00m queue\u001B[38;5;241m.\u001B[39mEmpty \u001B[38;5;28;01mas\u001B[39;00m _:\n\u001B[0;32m    684\u001B[0m         e \u001B[38;5;241m=\u001B[39m \u001B[38;5;167;01mTimeoutError\u001B[39;00m(\n\u001B[0;32m    685\u001B[0m             \u001B[38;5;124mf\u001B[39m\u001B[38;5;124m\"\u001B[39m\u001B[38;5;124mSparkLLMClient wait LLM api response timeout \u001B[39m\u001B[38;5;132;01m{\u001B[39;00mtimeout\u001B[38;5;132;01m}\u001B[39;00m\u001B[38;5;124m seconds\u001B[39m\u001B[38;5;124m\"\u001B[39m\n\u001B[0;32m    686\u001B[0m         )\n",
      "File \u001B[1;32mD:\\Software\\anaconda3\\envs\\role-element-extraction\\lib\\queue.py:180\u001B[0m, in \u001B[0;36mQueue.get\u001B[1;34m(self, block, timeout)\u001B[0m\n\u001B[0;32m    178\u001B[0m         \u001B[38;5;28;01mif\u001B[39;00m remaining \u001B[38;5;241m<\u001B[39m\u001B[38;5;241m=\u001B[39m \u001B[38;5;241m0.0\u001B[39m:\n\u001B[0;32m    179\u001B[0m             \u001B[38;5;28;01mraise\u001B[39;00m Empty\n\u001B[1;32m--> 180\u001B[0m         \u001B[38;5;28;43mself\u001B[39;49m\u001B[38;5;241;43m.\u001B[39;49m\u001B[43mnot_empty\u001B[49m\u001B[38;5;241;43m.\u001B[39;49m\u001B[43mwait\u001B[49m\u001B[43m(\u001B[49m\u001B[43mremaining\u001B[49m\u001B[43m)\u001B[49m\n\u001B[0;32m    181\u001B[0m item \u001B[38;5;241m=\u001B[39m \u001B[38;5;28mself\u001B[39m\u001B[38;5;241m.\u001B[39m_get()\n\u001B[0;32m    182\u001B[0m \u001B[38;5;28mself\u001B[39m\u001B[38;5;241m.\u001B[39mnot_full\u001B[38;5;241m.\u001B[39mnotify()\n",
      "File \u001B[1;32mD:\\Software\\anaconda3\\envs\\role-element-extraction\\lib\\threading.py:324\u001B[0m, in \u001B[0;36mCondition.wait\u001B[1;34m(self, timeout)\u001B[0m\n\u001B[0;32m    322\u001B[0m \u001B[38;5;28;01melse\u001B[39;00m:\n\u001B[0;32m    323\u001B[0m     \u001B[38;5;28;01mif\u001B[39;00m timeout \u001B[38;5;241m>\u001B[39m \u001B[38;5;241m0\u001B[39m:\n\u001B[1;32m--> 324\u001B[0m         gotit \u001B[38;5;241m=\u001B[39m \u001B[43mwaiter\u001B[49m\u001B[38;5;241;43m.\u001B[39;49m\u001B[43macquire\u001B[49m\u001B[43m(\u001B[49m\u001B[38;5;28;43;01mTrue\u001B[39;49;00m\u001B[43m,\u001B[49m\u001B[43m \u001B[49m\u001B[43mtimeout\u001B[49m\u001B[43m)\u001B[49m\n\u001B[0;32m    325\u001B[0m     \u001B[38;5;28;01melse\u001B[39;00m:\n\u001B[0;32m    326\u001B[0m         gotit \u001B[38;5;241m=\u001B[39m waiter\u001B[38;5;241m.\u001B[39macquire(\u001B[38;5;28;01mFalse\u001B[39;00m)\n",
      "\u001B[1;31mKeyboardInterrupt\u001B[0m: "
     ]
    }
   ],
   "source": [
    "import csv\n",
    "\n",
    "# 打开一个文件用于写入CSV数据\n",
    "with open('test.csv', 'w', newline='', encoding='utf-8') as csvfile:\n",
    "    # 创建一个csv writer对象\n",
    "    csvwriter = csv.writer(csvfile)\n",
    "    csvwriter.writerow([\"input\",\"target\"])\n",
    "    # 遍历数据列表，并将每一行写入CSV文件\n",
    "    for line_data in tqdm(data_test):\n",
    "        content = line_data[\"chat_text\"]\n",
    "        prompt = f'''\n",
    "                你是一个数据分析大师，你需要从群聊对话中进行分析，里面对话的角色中大部分是客服角色，你需要从中区分出有需求的客户，并得到以下四类数据。\n",
    "\n",
    "                ****群聊对话****\n",
    "                {content}\n",
    "\n",
    "                ****分析数据****\n",
    "                客户基本信息：需要从中区分出客户角色，并得到客户基本信息，其中包括姓名、手机号码、邮箱、地区、详细地址、性别、年龄和生日\n",
    "                客户意向与预算信息： 客户意向与预算信息包括咨询类型、意向产品、购买异议点、预算是否充足、总体预算金额以及预算明细\n",
    "                客户购买准备情况：户购买准备情况包括竞品信息、客户是否有意向、客户是否有卡点以及客户购买阶段\n",
    "                跟进计划信息： 跟进计划信息包括参与人、时间点和具体事项，这些信息用于指导销售团队在未来的跟进工作中与客户互动\n",
    "\n",
    "                ****注意****\n",
    "                1.只输出客户基本信息、客户意向与预算信息、客户购买准备情况、跟进计划信息对应的信息，不要输出无关内容\n",
    "                2.不要输出分析内容\n",
    "                3.输出内容格式为md格式\n",
    "                '''\n",
    "        res = chatbot(prompt=prompt)\n",
    "        \n",
    "        # print(line_data[\"chat_text\"])\n",
    "        ## 文件内容校验失败: test.jsonl(不含表头起算)第1行的内容不符合规则，限制每组input和target字符数量总和上限为8000，当前行字符数量：10721\n",
    "        line_list = [res, \"-\"]   \n",
    "        csvwriter.writerow(line_list)\n",
    "        # break"
   ],
   "metadata": {
    "collapsed": false,
    "ExecuteTime": {
     "end_time": "2024-07-05T07:56:18.256851800Z",
     "start_time": "2024-07-05T07:47:39.022453700Z"
    }
   },
   "id": "79d83d0058eb837e",
   "execution_count": 18
  },
  {
   "cell_type": "code",
   "outputs": [],
   "source": [
    "# 定义写入函数\n",
    "def write_json(json_file_path, data):\n",
    "    #\"\"\"写入json文件\"\"\"\n",
    "    with open(json_file_path, 'w') as f:\n",
    "        json.dump(data, f, ensure_ascii=False, indent=4)"
   ],
   "metadata": {
    "collapsed": false,
    "ExecuteTime": {
     "end_time": "2024-07-05T07:56:22.004950600Z",
     "start_time": "2024-07-05T07:56:21.991950800Z"
    }
   },
   "id": "cabe1515ad582129",
   "execution_count": 19
  },
  {
   "cell_type": "code",
   "outputs": [
    {
     "name": "stdout",
     "output_type": "stream",
     "text": [
      " \n"
     ]
    },
    {
     "data": {
      "text/plain": "'我很好，谢谢！作为一个认知智能模型，没有情感和感受，但我很高兴能为您提供帮助。您有什么需要我帮忙的吗？'"
     },
     "execution_count": 21,
     "metadata": {},
     "output_type": "execute_result"
    }
   ],
   "source": [
    "import SparkApi\n",
    "import json\n",
    "#以下密钥信息从控制台获取\n",
    "appid = \"9918e391\"     #填写控制台中获取的 APPID 信息\n",
    "api_secret = \"NGQ3ZDFjODc3ODUxMmNmZGY0ODExZGU4\"   #填写控制台中获取的 APISecret 信息\n",
    "api_key =\"139ed0c8da9d148ecc72bbed3cfa986e\"    #填写控制台中获取的 APIKey 信息\n",
    "\n",
    "#调用微调大模型时，设置为“patch”\n",
    "domain = \"patchv3\"\n",
    "\n",
    "#云端环境的服务地址\n",
    "# Spark_url = \"wss://spark-api-n.xf-yun.com/v1.1/chat\"  # 微调v1.5环境的地址\n",
    "Spark_url = \"wss://spark-api-n.xf-yun.com/v3.1/chat\"  # 微调v3.0环境的地址\n",
    "\n",
    "\n",
    "text =[]\n",
    "\n",
    "# length = 0\n",
    "\n",
    "def getText(role,content):\n",
    "    jsoncon = {}\n",
    "    jsoncon[\"role\"] = role\n",
    "    jsoncon[\"content\"] = content\n",
    "    text.append(jsoncon)\n",
    "    return text\n",
    "\n",
    "def getlength(text):\n",
    "    length = 0\n",
    "    for content in text:\n",
    "        temp = content[\"content\"]\n",
    "        leng = len(temp)\n",
    "        length += leng\n",
    "    return length\n",
    "\n",
    "def checklen(text):\n",
    "    while (getlength(text) > 8000):\n",
    "        del text[0]\n",
    "    return text\n",
    "    \n",
    "\n",
    "\n",
    "def core_run(text,prompt):\n",
    "    # print('prompt',prompt)\n",
    "    text.clear\n",
    "    Input = prompt\n",
    "    question = checklen(getText(\"user\",Input))\n",
    "    SparkApi.answer =\"\"\n",
    "    # print(\"星火:\",end = \"\")\n",
    "    SparkApi.main(appid,api_key,api_secret,Spark_url,domain,question)\n",
    "    getText(\"assistant\",SparkApi.answer)\n",
    "    # print(text)\n",
    "    return text[-1]['content']\n",
    "\n",
    "text = []\n",
    "res = core_run(text,'你好吗？')\n",
    "res"
   ],
   "metadata": {
    "collapsed": false,
    "ExecuteTime": {
     "end_time": "2024-07-05T07:56:35.644444Z",
     "start_time": "2024-07-05T07:56:32.571161600Z"
    }
   },
   "id": "5eb5899781d3eb69",
   "execution_count": 21
  },
  {
   "cell_type": "code",
   "outputs": [
    {
     "name": "stderr",
     "output_type": "stream",
     "text": [
      "正在询问第0轮:   0%|          | 0/129 [00:00<?, ?it/s]\n"
     ]
    },
    {
     "ename": "AttributeError",
     "evalue": "'list' object has no attribute 'iloc'",
     "output_type": "error",
     "traceback": [
      "\u001B[1;31m---------------------------------------------------------------------------\u001B[0m",
      "\u001B[1;31mAttributeError\u001B[0m                            Traceback (most recent call last)",
      "Cell \u001B[1;32mIn[22], line 30\u001B[0m\n\u001B[0;32m     26\u001B[0m test_data \u001B[38;5;241m=\u001B[39m {}\n\u001B[0;32m     27\u001B[0m \u001B[38;5;28;01mfor\u001B[39;00m i \u001B[38;5;129;01min\u001B[39;00m tqdm(\u001B[38;5;28mrange\u001B[39m(\u001B[38;5;28mlen\u001B[39m(data)), desc\u001B[38;5;241m=\u001B[39m\u001B[38;5;124mf\u001B[39m\u001B[38;5;124m\"\u001B[39m\u001B[38;5;124m正在询问第\u001B[39m\u001B[38;5;132;01m{\u001B[39;00mj\u001B[38;5;132;01m}\u001B[39;00m\u001B[38;5;124m轮\u001B[39m\u001B[38;5;124m\"\u001B[39m):\n\u001B[0;32m     28\u001B[0m     messages \u001B[38;5;241m=\u001B[39m [ChatMessage(\n\u001B[0;32m     29\u001B[0m         role\u001B[38;5;241m=\u001B[39m\u001B[38;5;124m\"\u001B[39m\u001B[38;5;124muser\u001B[39m\u001B[38;5;124m\"\u001B[39m,\n\u001B[1;32m---> 30\u001B[0m         content\u001B[38;5;241m=\u001B[39m\u001B[43mdata\u001B[49m\u001B[38;5;241;43m.\u001B[39;49m\u001B[43miloc\u001B[49m[i][\u001B[38;5;124m\"\u001B[39m\u001B[38;5;124minput\u001B[39m\u001B[38;5;124m\"\u001B[39m]\n\u001B[0;32m     31\u001B[0m     )]\n\u001B[0;32m     32\u001B[0m     \u001B[38;5;28;01mwhile\u001B[39;00m \u001B[38;5;28;01mTrue\u001B[39;00m:\n\u001B[0;32m     33\u001B[0m         \u001B[38;5;28;01mtry\u001B[39;00m:\n",
      "\u001B[1;31mAttributeError\u001B[0m: 'list' object has no attribute 'iloc'"
     ]
    }
   ],
   "source": [],
   "metadata": {
    "collapsed": false,
    "ExecuteTime": {
     "end_time": "2024-07-05T08:03:26.100027Z",
     "start_time": "2024-07-05T08:03:25.700767Z"
    }
   },
   "id": "3071d8f344714f4b",
   "execution_count": 22
  }
 ],
 "metadata": {
  "kernelspec": {
   "display_name": "Python 3",
   "language": "python",
   "name": "python3"
  },
  "language_info": {
   "codemirror_mode": {
    "name": "ipython",
    "version": 2
   },
   "file_extension": ".py",
   "mimetype": "text/x-python",
   "name": "python",
   "nbconvert_exporter": "python",
   "pygments_lexer": "ipython2",
   "version": "2.7.6"
  }
 },
 "nbformat": 4,
 "nbformat_minor": 5
}
