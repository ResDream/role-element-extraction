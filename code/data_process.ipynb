{
 "cells": [
  {
   "cell_type": "code",
   "execution_count": 15,
   "id": "initial_id",
   "metadata": {
    "collapsed": true,
    "ExecuteTime": {
     "end_time": "2024-06-30T11:27:28.859267500Z",
     "start_time": "2024-06-30T11:27:28.845268300Z"
    }
   },
   "outputs": [],
   "source": [
    "from dataclasses import dataclass\n",
    "from sparkai.llm.llm import ChatSparkLLM, ChunkPrintHandler\n",
    "from sparkai.core.messages import ChatMessage\n",
    "import pandas as pd\n",
    "import os\n",
    "import json\n",
    "import re\n",
    "import matplotlib.pyplot as plt\n",
    "from tqdm import tqdm\n",
    "from math import ceil\n",
    "import numpy as np\n",
    "from copy import deepcopy\n",
    "import random\n",
    "\n",
    "tqdm.pandas()\n",
    "plt.rcParams['font.family'] = ['STFangsong']\n",
    "plt.rcParams['axes.unicode_minus'] = False\n"
   ]
  },
  {
   "cell_type": "code",
   "outputs": [
    {
     "data": {
      "text/plain": "129"
     },
     "execution_count": 16,
     "metadata": {},
     "output_type": "execute_result"
    }
   ],
   "source": [
    "data_dir = \"./dataset\"\n",
    "train_file = \"train.json\"\n",
    "test_file = \"test_data.json\"\n",
    "\n",
    "train_data = pd.read_json(os.path.join(data_dir, train_file))\n",
    "test_data =  pd.read_json(os.path.join(data_dir, test_file))\n",
    "len(train_data)"
   ],
   "metadata": {
    "collapsed": false,
    "ExecuteTime": {
     "end_time": "2024-06-30T11:27:29.414274300Z",
     "start_time": "2024-06-30T11:27:29.378275Z"
    }
   },
   "id": "d94168cdacac8df3",
   "execution_count": 16
  },
  {
   "cell_type": "code",
   "outputs": [
    {
     "data": {
      "text/plain": "129"
     },
     "execution_count": 17,
     "metadata": {},
     "output_type": "execute_result"
    }
   ],
   "source": [
    "# 删除表情图片、超链接\n",
    "train_data['chat_text'] = train_data['chat_text'].str.replace(r\"\\[[^\\[\\]]{2,10}\\]\", \"\", regex=True)\n",
    "train_data['chat_text'] = train_data['chat_text'].str.replace(\"https?://\\S+\", \"\", regex=True)\n",
    "test_data['chat_text'] = test_data['chat_text'].str.replace(r\"\\[[^\\[\\]]{2,10}\\]\", \"\", regex=True)\n",
    "test_data['chat_text'] = test_data['chat_text'].str.replace(\"https?://\\S+\", \"\", regex=True)\n",
    "len(train_data)"
   ],
   "metadata": {
    "collapsed": false,
    "ExecuteTime": {
     "end_time": "2024-06-30T11:27:37.279083400Z",
     "start_time": "2024-06-30T11:27:37.267084300Z"
    }
   },
   "id": "f5ac13d181bfdec5",
   "execution_count": 17
  },
  {
   "cell_type": "code",
   "outputs": [
    {
     "data": {
      "text/plain": "129"
     },
     "execution_count": 18,
     "metadata": {},
     "output_type": "execute_result"
    }
   ],
   "source": [
    "def get_names_phones_and_emails(example):\n",
    "    names = re.findall(r\"(?:\\n)?([\\u4e00-\\u9fa5]+\\d+)：\", example[\"chat_text\"])\n",
    "    names += re.findall(r\"@([\\u4e00-\\u9fa5]+)\\s\", example[\"chat_text\"])\n",
    "    emails = re.findall(r\"[A-Za-z0-9._%+-]+@[A-Za-z0-9.-]+\\.[A-Z|a-z]{2,}\", example[\"chat_text\"])\n",
    "    # phones = re.findall(r\"1[356789]\\d{9}\", example[\"chat_text\"]) # 文本中的手机号并不是标准手机号\n",
    "    phones = re.findall(r\"\\d{3}\\s*\\d{4}\\s*\\d{4}\", example[\"chat_text\"]) \n",
    "    return pd.Series([set(names), set(phones), set(emails)], index=['names', 'phones', 'emails'])\n",
    "    \n",
    "def merge_chat(example):\n",
    "    for name in example['names']:\n",
    "        example[\"chat_text\"] = example[\"chat_text\"].replace(f\"\\n{name}：\", f\"<|sep|>{name}：\")\n",
    "    chats = example[\"chat_text\"].split(\"<|sep|>\")\n",
    "    \n",
    "    last_name = \"UNKNOWN\"\n",
    "    new_chats = []\n",
    "    for chat in chats:\n",
    "        if chat.startswith(last_name):\n",
    "            chat = chat.strip(\"\\n\")\n",
    "            chat = \"\".join(chat.split(\"：\")[1:])\n",
    "            new_chats[-1] += \" \" + chat\n",
    "        else:\n",
    "            new_chats.append(chat)\n",
    "            last_name = chat.split(\"：\")[0]\n",
    "    return pd.Series([\"\\n\".join(new_chats), new_chats], index=[\"chats\", \"chat_list\"])\n",
    "\n",
    "# 使用正则表达式获得'names', 'phones', 'emails'\n",
    "train_data[['names', 'phones', 'emails']] = train_data.apply(get_names_phones_and_emails, axis=1)\n",
    "test_data[['names', 'phones', 'emails']] = test_data.apply(get_names_phones_and_emails, axis=1)\n",
    "# 分割聊天记录， 合并连续相同人的聊天\n",
    "train_data[[\"chats\", \"chat_list\"]] = train_data.apply(merge_chat, axis=1)\n",
    "test_data[[\"chats\", \"chat_list\"]] = test_data.apply(merge_chat, axis=1)\n",
    "len(train_data)"
   ],
   "metadata": {
    "collapsed": false,
    "ExecuteTime": {
     "end_time": "2024-06-30T11:27:47.863742300Z",
     "start_time": "2024-06-30T11:27:47.737242900Z"
    }
   },
   "id": "4e0a76d02d0e1e75",
   "execution_count": 18
  },
  {
   "cell_type": "code",
   "outputs": [
    {
     "data": {
      "text/plain": "129"
     },
     "execution_count": 19,
     "metadata": {},
     "output_type": "execute_result"
    }
   ],
   "source": [
    "def process(excemple):\n",
    "    chat_list = excemple[\"chat_text\"].split(\"\\n\")\n",
    "\n",
    "    res = []\n",
    "    s = 0\n",
    "    while s < len(chat_list):\n",
    "        \n",
    "        i, j = s, s+1\n",
    "        start_j = j\n",
    "        while i < len(chat_list) and j < len(chat_list):\n",
    "            if chat_list[i] == chat_list[j]:\n",
    "                i += 1\n",
    "            else:\n",
    "                if i != s:\n",
    "                    if j - start_j >10:\n",
    "                        res += list(range(start_j, j))\n",
    "                    i = s\n",
    "                start_j = j\n",
    "            j += 1\n",
    "        s += 1\n",
    "    texts = []\n",
    "    for i in range(len(chat_list)):\n",
    "        if i not in res:\n",
    "            texts.append(chat_list[i])\n",
    "    return \"\\n\".join(texts)\n",
    "                    \n",
    "\n",
    "train_data[\"chat_text\"] = train_data.apply(process, axis = 1)\n",
    "test_data[\"chat_text\"] = test_data.apply(process, axis = 1)\n",
    "len(train_data)"
   ],
   "metadata": {
    "collapsed": false,
    "ExecuteTime": {
     "end_time": "2024-06-30T11:27:59.553728200Z",
     "start_time": "2024-06-30T11:27:52.583525500Z"
    }
   },
   "id": "d0cbb3700e43090",
   "execution_count": 19
  },
  {
   "cell_type": "code",
   "outputs": [],
   "source": [
    "def process(x):\n",
    "\t# 提示词，我们交代清楚大模型的角色、目标、注意事项，然后提供背景信息，输出格式就可以了\n",
    "    prompt = f\"\"\"Instruction:\n",
    "你是一个信息要素提取工作人员，你需要从给定的`ChatText`中提取出**客户**的`Infos`中相关信息，将提取的信息填到`Infos`中，\n",
    "注意事项：\n",
    "1. 没有的信息无需填写\n",
    "2. 保持`Infos`的JSON格式不变，没有的信息项也要保留！！！\n",
    "4. 姓名可以是聊天昵称\n",
    "5. 注意是客户的信息，不是客服的信息\n",
    "6. 可以有多个客户信息\n",
    "ChatText:\n",
    "{x[\"chat_text\"]}\n",
    "\"\"\"\n",
    "\t# 要求的输出格式\n",
    "    infos = \"\"\"\"\n",
    "Infos:\n",
    "infos\": [{\n",
    "    \"基本信息-姓名\": \"\",\n",
    "    \"基本信息-手机号码\": \"\",\n",
    "    \"基本信息-邮箱\": \"\",\n",
    "    \"基本信息-地区\": \"\",\n",
    "    \"基本信息-详细地址\": \"\",\n",
    "    \"基本信息-性别\": \"\",\n",
    "    \"基本信息-年龄\": \"\",\n",
    "    \"基本信息-生日\": \"\",\n",
    "    \"咨询类型\": [],\n",
    "    \"意向产品\": [],\n",
    "    \"购买异议点\": [],\n",
    "    \"客户预算-预算是否充足\": \"\",\n",
    "    \"客户预算-总体预算金额\": \"\",\n",
    "    \"客户预算-预算明细\": \"\",\n",
    "    \"竞品信息\": \"\",\n",
    "    \"客户是否有意向\": \"\",\n",
    "    \"客户是否有卡点\": \"\",\n",
    "    \"客户购买阶段\": \"\",\n",
    "    \"下一步跟进计划-参与人\": [],\n",
    "    \"下一步跟进计划-时间点\": \"\",\n",
    "    \"下一步跟进计划-具体事项\": \"\"\n",
    "}]\n",
    "\"\"\"\n",
    "\t# prompt+infos是文件中的input，answer是文件中的target\n",
    "    answer = f\"\"\"{x[\"infos\"]}\"\"\" #target\n",
    "    total= len(prompt + infos + answer)\n",
    "    if total > 8000:\n",
    "        prompt = prompt[:8000-len(infos + answer)]\n",
    "    return pd.Series([prompt, answer], index=[\"input\", \"target\"])\n",
    "\n",
    "train_data = train_data.apply(process, axis=1)\n",
    "\n",
    "# 测试集中的target并没有用可以忽略\n",
    "test_data = test_data.apply(process, axis=1)\n",
    "\n",
    "#保存数据\n",
    "with open(os.path.join(data_dir, \"my_train.jsonl\"), \"w\", encoding=\"utf-8\") as f:\n",
    "    f.write(\"\\n\".join([json.dumps(i, ensure_ascii=False) for i in list(train_data.transpose().to_dict().values())]))\n",
    "f.close()\n",
    "with open(os.path.join(data_dir, \"my_test.jsonl\"), \"w\", encoding=\"utf-8\") as f:\n",
    "    f.write(\"\\n\".join([json.dumps(i, ensure_ascii=False) for i in list(test_data.transpose().to_dict().values())]))\n",
    "f.close()"
   ],
   "metadata": {
    "collapsed": false,
    "ExecuteTime": {
     "end_time": "2024-06-30T11:28:44.247021500Z",
     "start_time": "2024-06-30T11:28:44.208022500Z"
    }
   },
   "id": "6cc5f15fb901213c",
   "execution_count": 20
  },
  {
   "cell_type": "code",
   "outputs": [],
   "source": [
    "# 填充数据集至1500行\n",
    "for i in range(15):\n",
    "    with open(os.path.join(data_dir, \"train_final.jsonl\"), \"a\", encoding=\"utf-8\") as f:\n",
    "        f.write(\"\\n\".join([json.dumps(i, ensure_ascii=False) for i in list(train_data.transpose().to_dict().values())]))\n",
    "        f.write(\"\\n\")\n",
    "f.close()"
   ],
   "metadata": {
    "collapsed": false,
    "ExecuteTime": {
     "end_time": "2024-06-30T11:34:27.650349500Z",
     "start_time": "2024-06-30T11:34:27.563274400Z"
    }
   },
   "id": "ea73fc6f62fdabee",
   "execution_count": 24
  },
  {
   "cell_type": "code",
   "outputs": [],
   "source": [],
   "metadata": {
    "collapsed": false
   },
   "id": "3140cce02b51294"
  }
 ],
 "metadata": {
  "kernelspec": {
   "display_name": "Python 3",
   "language": "python",
   "name": "python3"
  },
  "language_info": {
   "codemirror_mode": {
    "name": "ipython",
    "version": 2
   },
   "file_extension": ".py",
   "mimetype": "text/x-python",
   "name": "python",
   "nbconvert_exporter": "python",
   "pygments_lexer": "ipython2",
   "version": "2.7.6"
  }
 },
 "nbformat": 4,
 "nbformat_minor": 5
}
