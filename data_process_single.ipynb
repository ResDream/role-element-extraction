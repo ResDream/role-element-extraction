{
 "cells": [
  {
   "cell_type": "code",
   "execution_count": 8,
   "id": "initial_id",
   "metadata": {
    "collapsed": true,
    "ExecuteTime": {
     "end_time": "2024-07-23T08:39:44.668031600Z",
     "start_time": "2024-07-23T08:39:44.518031200Z"
    }
   },
   "outputs": [],
   "source": [
    "import json\n",
    "import re\n",
    "\n",
    "def process_input(input_text):\n",
    "    # 将“信息提取分析师”前面加上“客户”\n",
    "    input_text = input_text.replace(\"信息提取分析师\", \"客户信息提取分析师\")\n",
    "    \n",
    "    # 将“客户的”后面加上“姓名和”\n",
    "    input_text = input_text.replace(\"客户的\", \"客户的姓名和\")\n",
    "    \n",
    "    # 将“`Infos`的JSON模板中。”替换为“”\n",
    "    input_text = input_text.replace(\"`Infos`的JSON模板中。\", \"json中，格式为：{'基本信息-姓名'：客户姓名,'xxx':提取到的信息}。\")\n",
    "    \n",
    "    return input_text\n",
    "\n",
    "def main():\n",
    "    input_file = \"dataset/shuffled_new_data.jsonl\"\n",
    "    output_file = \"dataset/processed_new_data.jsonl\"\n",
    "    \n",
    "    with open(input_file, \"r\", encoding=\"utf-8\") as infile, open(output_file, \"w\", encoding=\"utf-8\") as outfile:\n",
    "        for line in infile:\n",
    "            data = json.loads(line)\n",
    "            data[\"input\"] = process_input(data[\"input\"])\n",
    "            outfile.write(json.dumps(data, ensure_ascii=False) + \"\\n\")\n",
    "\n",
    "if __name__ == \"__main__\":\n",
    "    main()"
   ]
  },
  {
   "cell_type": "code",
   "outputs": [],
   "source": [
    "import json\n",
    "import re\n",
    "\n",
    "def process_input(input_text):\n",
    "    # 提取“客户的姓名和”到下一个逗号之间的内容\n",
    "    pattern = r\"客户的姓名和([^，]+)\"\n",
    "    matches = re.findall(pattern, input_text)\n",
    "    \n",
    "    # 替换 \"xxx\" 为提取到的内容\n",
    "    for match in matches:\n",
    "        key = match.strip()\n",
    "        input_text = input_text.replace(\"'xxx'\", f\"'{key}'\")\n",
    "    \n",
    "    return input_text\n",
    "\n",
    "def main():\n",
    "    input_file = \"dataset/processed_new_data.jsonl\"\n",
    "    output_file = \"dataset/processed_new_data_1.jsonl\"\n",
    "    \n",
    "    with open(input_file, \"r\", encoding=\"utf-8\") as infile, open(output_file, \"w\", encoding=\"utf-8\") as outfile:\n",
    "        for line in infile:\n",
    "            data = json.loads(line)\n",
    "            data[\"input\"] = process_input(data[\"input\"])\n",
    "            outfile.write(json.dumps(data, ensure_ascii=False) + \"\\n\")\n",
    "\n",
    "if __name__ == \"__main__\":\n",
    "    main()"
   ],
   "metadata": {
    "collapsed": false,
    "ExecuteTime": {
     "end_time": "2024-07-23T08:39:45.420919400Z",
     "start_time": "2024-07-23T08:39:45.261150700Z"
    }
   },
   "id": "2778186b8ef70411",
   "execution_count": 9
  },
  {
   "cell_type": "code",
   "outputs": [],
   "source": [
    "import json\n",
    "import re\n",
    "\n",
    "def process_input(input_text):\n",
    "    # 将“信息提取分析师”前面加上“客户”\n",
    "    input_text = input_text.replace(\"提取到的信息}\", \"提取到的信息}]\")\n",
    "    \n",
    "    return input_text\n",
    "\n",
    "def main():\n",
    "    input_file = \"dataset/processed_new_data_4.jsonl\"\n",
    "    output_file = \"dataset/processed_new_data_5.jsonl\"\n",
    "    \n",
    "    with open(input_file, \"r\", encoding=\"utf-8\") as infile, open(output_file, \"w\", encoding=\"utf-8\") as outfile:\n",
    "        for line in infile:\n",
    "            data = json.loads(line)\n",
    "            data[\"input\"] = process_input(data[\"input\"])\n",
    "            outfile.write(json.dumps(data, ensure_ascii=False) + \"\\n\")\n",
    "\n",
    "if __name__ == \"__main__\":\n",
    "    main()"
   ],
   "metadata": {
    "collapsed": false,
    "ExecuteTime": {
     "end_time": "2024-07-23T14:28:04.748302300Z",
     "start_time": "2024-07-23T14:28:04.609722200Z"
    }
   },
   "id": "4f633536da9c1a84",
   "execution_count": 4
  },
  {
   "cell_type": "code",
   "outputs": [
    {
     "name": "stdout",
     "output_type": "stream",
     "text": [
      "文件处理完成，结果已保存到 dataset/output_data_1.jsonl\n",
      "0\n"
     ]
    }
   ],
   "source": [
    "import json\n",
    "\n",
    "# 定义文件路径\n",
    "processed_new_data_path = 'dataset/processed_new_data_5.jsonl'\n",
    "train_final_path = 'dataset/train_final.jsonl'\n",
    "output_path = 'dataset/output_data_1.jsonl'\n",
    "\n",
    "# 加载 processed_new_data 文件中的数据\n",
    "with open(processed_new_data_path, 'r', encoding='utf-8') as f:\n",
    "    processed_new_data = [json.loads(line) for line in f]\n",
    "\n",
    "# 加载 train_final 文件中的数据\n",
    "with open(train_final_path, 'r', encoding='utf-8') as f:\n",
    "    train_final_data = [json.loads(line) for line in f]\n",
    "\n",
    "# 构建一个字典用于快速查找\n",
    "train_final_dict = {item['input']: item['target'] for item in train_final_data}\n",
    "\n",
    "not_found_count = 0\n",
    "\n",
    "# 处理 processed_new_data 数据\n",
    "for item in processed_new_data:\n",
    "    input_text = item['input']\n",
    "    chat_text_start = input_text.find(\"ChatText:\")\n",
    "    if chat_text_start != -1:\n",
    "        temp = input_text[chat_text_start:chat_text_start+20]\n",
    "        flag=1\n",
    "        for train_item in train_final_data:\n",
    "            if temp == \"ChatText:\\n有什么办法可以直接全\":\n",
    "                temp = \"ChatText:\\n\\n有什么办法可以直接全\"\n",
    "            if temp in train_item['input']:\n",
    "                item['target'] = train_item['target']\n",
    "                flag=0\n",
    "                break\n",
    "        if flag == 1:\n",
    "            print(temp)\n",
    "            not_found_count +=1\n",
    "\n",
    "# 输出结果到新的文件\n",
    "with open(output_path, 'w', encoding='utf-8') as f:\n",
    "    for item in processed_new_data:\n",
    "        f.write(json.dumps(item, ensure_ascii=False) + '\\n')\n",
    "\n",
    "print(\"文件处理完成，结果已保存到\", output_path)\n",
    "print(not_found_count)\n"
   ],
   "metadata": {
    "collapsed": false,
    "ExecuteTime": {
     "end_time": "2024-07-23T14:45:16.518955900Z",
     "start_time": "2024-07-23T14:45:16.155650400Z"
    }
   },
   "id": "16912e724546af8c",
   "execution_count": 12
  },
  {
   "cell_type": "code",
   "outputs": [
    {
     "name": "stdout",
     "output_type": "stream",
     "text": [
      "文件处理完成，结果已保存到 dataset/output_data_1.jsonl\n",
      "未找到匹配项的数量: 3035\n"
     ]
    }
   ],
   "source": [],
   "metadata": {
    "collapsed": false,
    "ExecuteTime": {
     "end_time": "2024-07-23T14:34:46.610396Z",
     "start_time": "2024-07-23T14:34:42.110406500Z"
    }
   },
   "id": "b2110ae31d748fea",
   "execution_count": 6
  }
 ],
 "metadata": {
  "kernelspec": {
   "display_name": "Python 3",
   "language": "python",
   "name": "python3"
  },
  "language_info": {
   "codemirror_mode": {
    "name": "ipython",
    "version": 2
   },
   "file_extension": ".py",
   "mimetype": "text/x-python",
   "name": "python",
   "nbconvert_exporter": "python",
   "pygments_lexer": "ipython2",
   "version": "2.7.6"
  }
 },
 "nbformat": 4,
 "nbformat_minor": 5
}
